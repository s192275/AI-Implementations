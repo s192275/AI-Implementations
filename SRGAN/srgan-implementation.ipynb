{
 "cells": [
  {
   "cell_type": "code",
   "execution_count": null,
   "metadata": {
    "_cell_guid": "b1076dfc-b9ad-4769-8c92-a6c4dae69d19",
    "_uuid": "8f2839f25d086af736a60e9eeb907d3b93b6e0e5",
    "trusted": true
   },
   "outputs": [],
   "source": [
    "import torch\n",
    "from torch import nn\n",
    "import torchvision\n",
    "from torchvision import transforms\n",
    "from torch.utils.data import Dataset, DataLoader\n",
    "import matplotlib.pyplot as plt\n",
    "import os\n",
    "import random\n",
    "from torch.utils.tensorboard import SummaryWriter\n",
    "from PIL import Image"
   ]
  },
  {
   "cell_type": "code",
   "execution_count": null,
   "metadata": {
    "trusted": true
   },
   "outputs": [],
   "source": [
    "device = 'cuda' if torch.cuda.is_available() else 'cpu'\n",
    "print(f'You are using : {device}')"
   ]
  },
  {
   "cell_type": "code",
   "execution_count": null,
   "metadata": {
    "trusted": true
   },
   "outputs": [],
   "source": [
    "BATCH_SIZE = 8\n",
    "LR_RATE = 0.0001\n",
    "NUM_EPOCHS = 30"
   ]
  },
  {
   "cell_type": "code",
   "execution_count": null,
   "metadata": {
    "trusted": true
   },
   "outputs": [],
   "source": [
    "low_res_size = 128\n",
    "high_res_size = 256\n",
    "transform_low = transforms.Compose([\n",
    "    transforms.ToTensor(),\n",
    "    transforms.Resize((low_res_size, low_res_size)),\n",
    "])\n",
    "\n",
    "transform_high = transforms.Compose([\n",
    "    transforms.ToTensor(),\n",
    "    transforms.Resize((high_res_size, high_res_size)),\n",
    "])"
   ]
  },
  {
   "cell_type": "code",
   "execution_count": null,
   "metadata": {
    "trusted": true
   },
   "outputs": [],
   "source": [
    "class SRGANData(Dataset):\n",
    "    def __init__(self, root_path, transform_low, transform_high) -> None:\n",
    "        super(SRGANData, self).__init__()\n",
    "        self.transform_low = transform_low\n",
    "        self.transform_high = transform_high\n",
    "        self.root_path = root_path\n",
    "        #Resimleri sort ederek olası karışıklığın önüne geçelim.\n",
    "        self.high_res_path = os.path.join(self.root_path, 'high_res')\n",
    "        self.low_res_path = os.path.join(self.root_path, 'low_res')\n",
    "        self.high_res = sorted(os.listdir(os.path.join(self.root_path, 'high_res')))\n",
    "        self.low_res = sorted(os.listdir(os.path.join(self.root_path, 'low_res')))\n",
    "\n",
    "    def __len__(self) -> int:\n",
    "        return len(self.high_res) #Birini kullanmam yeterli aynı verinin low ve high çözünürlükleri var.\n",
    "    \n",
    "    def __getitem__(self, idx) -> dict:\n",
    "        filename = self.high_res[idx]\n",
    "        low_res_img_path = os.path.join(self.low_res_path, filename)\n",
    "        high_res_img_path = os.path.join(self.high_res_path, filename)\n",
    "\n",
    "        low_res_image = Image.open(low_res_img_path).convert('RGB')\n",
    "        high_res_image = Image.open(high_res_img_path).convert('RGB')\n",
    "\n",
    "        if self.transform_low:\n",
    "            low_res_image = self.transform_low(low_res_image)\n",
    "        if self.transform_high:\n",
    "            high_res_image = self.transform_high(high_res_image)\n",
    "\n",
    "        return {'low_res' : low_res_image, 'high_res' : high_res_image}"
   ]
  },
  {
   "cell_type": "code",
   "execution_count": null,
   "metadata": {
    "trusted": true
   },
   "outputs": [],
   "source": [
    "dataset = SRGANData(root_path = '/kaggle/input/image-super-resolution/dataset/train', transform_low = transform_low,\n",
    "                   transform_high = transform_high)\n",
    "dataset"
   ]
  },
  {
   "cell_type": "code",
   "execution_count": null,
   "metadata": {
    "trusted": true
   },
   "outputs": [],
   "source": [
    "rand_nums = []\n",
    "for i in range(10):\n",
    "    rand_nums.append(random.randint(0, len(dataset) - 1))\n",
    "\n",
    "for num in rand_nums:\n",
    "    plt.subplot(1,2,1)\n",
    "    plt.imshow(dataset[num]['low_res'].permute(1, 2, 0))\n",
    "    plt.subplot(1, 2, 2)\n",
    "    plt.imshow(dataset[num]['high_res'].permute(1, 2, 0))\n",
    "    plt.show()"
   ]
  },
  {
   "cell_type": "code",
   "execution_count": null,
   "metadata": {
    "trusted": true
   },
   "outputs": [],
   "source": [
    "class ResidualBlocks(nn.Module):\n",
    "    def __init__(self, in_channels, out_channels):\n",
    "        super(ResidualBlocks, self).__init__()\n",
    "        self.conv1 = nn.Conv2d(in_channels = in_channels, out_channels = out_channels,\n",
    "                              kernel_size = 3, stride = 1, padding = 1) \n",
    "        self.bn1 = nn.BatchNorm2d(out_channels)\n",
    "        self.prelu1 = nn.PReLU()\n",
    "        self.conv2 = nn.Conv2d(out_channels, 64, kernel_size = 3, stride = 1, padding = 1)\n",
    "        self.bn2 = nn.BatchNorm2d(64)\n",
    "    def forward(self, x):\n",
    "        identity = x\n",
    "        x = self.conv1(x)\n",
    "        x = self.bn1(x)\n",
    "        x = self.prelu1(x)\n",
    "        x = self.conv2(x)\n",
    "        x = self.bn2(x)\n",
    "        x += identity\n",
    "        return x"
   ]
  },
  {
   "cell_type": "code",
   "execution_count": null,
   "metadata": {
    "trusted": true
   },
   "outputs": [],
   "source": [
    "class UpsampleBlock(nn.Module):\n",
    "    def __init__(self, in_channels):\n",
    "        super(UpsampleBlock, self).__init__()\n",
    "        self.conv = nn.Conv2d(in_channels = in_channels, out_channels = in_channels * 4, \n",
    "                             kernel_size = 3, stride = 1, padding = 1)\n",
    "        self.pix_shuffler = nn.PixelShuffle(2)\n",
    "        self.prelu = nn.PReLU()\n",
    "    def forward(self, x):\n",
    "        x = self.conv(x)\n",
    "        x = self.pix_shuffler(x)\n",
    "        x = self.prelu(x)\n",
    "        return x"
   ]
  },
  {
   "cell_type": "code",
   "execution_count": null,
   "metadata": {
    "trusted": true
   },
   "outputs": [],
   "source": [
    "class Generator(nn.Module):\n",
    "    def __init__(self) -> None:\n",
    "        super(Generator, self).__init__()\n",
    "        self.conv1 = nn.Conv2d(in_channels = 3, out_channels = 64, \n",
    "                               kernel_size = 9, stride = 1, padding = 1)\n",
    "        self.prelu1 = nn.PReLU()\n",
    "        self.res_block = nn.Sequential(\n",
    "            ResidualBlocks(in_channels = 64, out_channels = 64),\n",
    "            ResidualBlocks(in_channels = 64, out_channels = 64),\n",
    "            ResidualBlocks(in_channels = 64, out_channels = 64),\n",
    "            ResidualBlocks(in_channels = 64, out_channels = 64),\n",
    "            ResidualBlocks(in_channels = 64, out_channels = 64)\n",
    "            \n",
    "        )\n",
    "        self.conv2 = nn.Conv2d(64, 64, kernel_size=3, stride=1, padding=1)\n",
    "        self.bn2 = nn.BatchNorm2d(64)\n",
    "        \n",
    "        self.upsample_block = nn.Sequential(\n",
    "            UpsampleBlock(in_channels = 64),\n",
    "            UpsampleBlock(in_channels = 64)\n",
    "        )\n",
    "        self.conv3 = nn.Conv2d(in_channels = 64, out_channels = 3,\n",
    "                               kernel_size = 9, stride = 1, padding = 4)\n",
    "        self.tan = nn.Tanh()\n",
    "    def forward(self, x) -> torch.Tensor:\n",
    "        x1 = self.prelu1(self.conv1(x))\n",
    "        x2 = self.res_block(x1)\n",
    "        x = x1 + x2 #Skip connection\n",
    "        x = self.conv2(x)\n",
    "        x = self.bn2(x)\n",
    "        x = self.upsample_block(x)\n",
    "        x = self.conv3(x)\n",
    "        x = self.tan(x)\n",
    "        return x"
   ]
  },
  {
   "cell_type": "code",
   "execution_count": null,
   "metadata": {
    "trusted": true
   },
   "outputs": [],
   "source": [
    "class DiscBlock(nn.Module):\n",
    "    def __init__(self, in_channels, out_channels, stride):\n",
    "        super(DiscBlock, self).__init__()\n",
    "        self.conv = nn.Conv2d(in_channels = in_channels, out_channels = out_channels, \n",
    "                              kernel_size = 3, stride = stride, padding = 1) \n",
    "        self.bn = nn.BatchNorm2d(out_channels)\n",
    "        self.lrelu = nn.LeakyReLU(0.2)\n",
    "    def forward(self, x):\n",
    "        x = self.lrelu(self.bn(self.conv(x)))\n",
    "        return x"
   ]
  },
  {
   "cell_type": "code",
   "execution_count": null,
   "metadata": {
    "trusted": true
   },
   "outputs": [],
   "source": [
    "class Discriminator(nn.Module):\n",
    "    def __init__(self):\n",
    "        super(Discriminator, self).__init__()\n",
    "        self.conv1 = nn.Conv2d(in_channels = 3, out_channels = 64, kernel_size = 3, stride = 1, padding = 1)\n",
    "        self.lrelu1 = nn.LeakyReLU(0.2)\n",
    "        self.res_block = nn.Sequential(\n",
    "            DiscBlock(in_channels = 64, out_channels = 64, stride = 2),\n",
    "            DiscBlock(in_channels = 64, out_channels = 128,stride = 1),\n",
    "            DiscBlock(in_channels = 128, out_channels = 128, stride = 2),\n",
    "            DiscBlock(in_channels = 128, out_channels = 256, stride = 1),\n",
    "            DiscBlock(in_channels = 256, out_channels = 256, stride = 2),\n",
    "            DiscBlock(in_channels = 256, out_channels = 512, stride = 1),\n",
    "            DiscBlock(in_channels = 512, out_channels = 512, stride = 2),\n",
    "            \n",
    "        )\n",
    "        self.gap = nn.AdaptiveAvgPool2d((8, 8))\n",
    "        self.fc1 = nn.Linear(8*8*512,1024)\n",
    "        self.lrelu2 = nn.LeakyReLU(0.2)\n",
    "        self.fc2 = nn.Linear(1024,1)\n",
    "        self.sigmoid = nn.Sigmoid()\n",
    "    def forward(self, x):\n",
    "        x = self.conv1(x)\n",
    "        x = self.lrelu1(x)\n",
    "        x = self.res_block(x)\n",
    "        x = self.gap(x)\n",
    "        x = x.view(x.size(0), -1)\n",
    "        x = self.fc1(x)\n",
    "        x = self.lrelu2(x)\n",
    "        x = self.fc2(x)\n",
    "        x = self.sigmoid(x)\n",
    "        return x"
   ]
  },
  {
   "cell_type": "code",
   "execution_count": null,
   "metadata": {
    "trusted": true
   },
   "outputs": [],
   "source": [
    "class VggFeatureExtractor(nn.Module):\n",
    "    def __init__(self):\n",
    "        super(VggFeatureExtractor, self).__init__()\n",
    "        vgg19 = torchvision.models.vgg19(pretrained=True).features\n",
    "        self.vgg19_layers = nn.Sequential(*list(vgg19.children())[:36])\n",
    "        for param in self.vgg19_layers.parameters():\n",
    "            param.requires_grad = False\n",
    "    def forward(self, x):\n",
    "        return self.vgg19_layers(x)"
   ]
  },
  {
   "cell_type": "code",
   "execution_count": null,
   "metadata": {
    "trusted": true
   },
   "outputs": [],
   "source": [
    "bce_loss = nn.BCELoss()\n",
    "mse_loss = nn.MSELoss()\n",
    "vgg_extractor = VggFeatureExtractor().to(device)"
   ]
  },
  {
   "cell_type": "code",
   "execution_count": null,
   "metadata": {
    "trusted": true
   },
   "outputs": [],
   "source": [
    "G = Generator().to(device)\n",
    "D = Discriminator().to(device)\n",
    "optimizer_G = torch.optim.Adam(G.parameters(), lr = LR_RATE)\n",
    "optimizer_D = torch.optim.Adam(D.parameters(), lr = LR_RATE)"
   ]
  },
  {
   "cell_type": "code",
   "execution_count": null,
   "metadata": {
    "trusted": true
   },
   "outputs": [],
   "source": [
    "import torch.nn.functional as F\n",
    "\n",
    "dataloader = DataLoader(dataset, batch_size = BATCH_SIZE, shuffle = True)\n",
    "for epoch in range(NUM_EPOCHS):\n",
    "    for batch in dataloader:\n",
    "        real_imgs = batch['high_res'].to(device)\n",
    "        low_res_imgs = batch['low_res'].to(device)\n",
    "        batch_size = real_imgs.size(0)\n",
    "        valid = torch.ones((batch_size, 1), device=device)\n",
    "        fake = torch.zeros((batch_size, 1), device=device)\n",
    "        \n",
    "        optimizer_G.zero_grad()\n",
    "\n",
    "        gen_imgs = G(low_res_imgs)\n",
    "        pred_fake = D(gen_imgs)\n",
    "\n",
    "        # VGG feature loss\n",
    "        real_features = vgg_extractor(real_imgs)\n",
    "        gen_features = vgg_extractor(gen_imgs)\n",
    "        gen_features = F.interpolate(gen_features, size=real_features.shape[2:], mode='bilinear', align_corners=False) #Shapeler tutsun diye\n",
    "\n",
    "        loss_content = mse_loss(gen_features, real_features)\n",
    "\n",
    "        # Adversarial loss\n",
    "        loss_gan = bce_loss(pred_fake, valid)\n",
    "\n",
    "        # Total generator loss\n",
    "        loss_G = loss_content + 1e-3 * loss_gan\n",
    "        loss_G.backward()\n",
    "        optimizer_G.step()\n",
    "\n",
    "\n",
    "        optimizer_D.zero_grad()\n",
    "\n",
    "        pred_real = D(real_imgs)\n",
    "        pred_fake = D(gen_imgs.detach())\n",
    "\n",
    "        loss_real = bce_loss(pred_real, valid)\n",
    "        loss_fake = bce_loss(pred_fake, fake)\n",
    "        loss_D = (loss_real + loss_fake) / 2\n",
    "\n",
    "        loss_D.backward()\n",
    "        optimizer_D.step()\n",
    "\n",
    "    #print(f\"[Epoch {epoch}] Loss_G: {loss_G.item():.4f} | Loss_D: {loss_D.item():.4f}\")"
   ]
  }
 ],
 "metadata": {
  "kaggle": {
   "accelerator": "nvidiaTeslaT4",
   "dataSources": [
    {
     "datasetId": 810739,
     "sourceId": 1388983,
     "sourceType": "datasetVersion"
    }
   ],
   "dockerImageVersionId": 30919,
   "isGpuEnabled": true,
   "isInternetEnabled": true,
   "language": "python",
   "sourceType": "notebook"
  },
  "kernelspec": {
   "display_name": "Python 3",
   "language": "python",
   "name": "python3"
  },
  "language_info": {
   "codemirror_mode": {
    "name": "ipython",
    "version": 3
   },
   "file_extension": ".py",
   "mimetype": "text/x-python",
   "name": "python",
   "nbconvert_exporter": "python",
   "pygments_lexer": "ipython3",
   "version": "3.10.12"
  }
 },
 "nbformat": 4,
 "nbformat_minor": 4
}
