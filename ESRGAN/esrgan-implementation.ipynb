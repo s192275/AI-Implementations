{
 "cells": [
  {
   "cell_type": "code",
   "execution_count": 1,
   "metadata": {
    "_cell_guid": "b1076dfc-b9ad-4769-8c92-a6c4dae69d19",
    "_uuid": "8f2839f25d086af736a60e9eeb907d3b93b6e0e5",
    "execution": {
     "iopub.execute_input": "2025-04-05T11:26:22.375162Z",
     "iopub.status.busy": "2025-04-05T11:26:22.374664Z",
     "iopub.status.idle": "2025-04-05T11:26:26.330098Z",
     "shell.execute_reply": "2025-04-05T11:26:26.329128Z",
     "shell.execute_reply.started": "2025-04-05T11:26:22.375105Z"
    },
    "trusted": true
   },
   "outputs": [],
   "source": [
    "import torch\n",
    "from torch import nn"
   ]
  },
  {
   "cell_type": "code",
   "execution_count": null,
   "metadata": {
    "execution": {
     "iopub.execute_input": "2025-04-05T11:53:18.701321Z",
     "iopub.status.busy": "2025-04-05T11:53:18.700937Z",
     "iopub.status.idle": "2025-04-05T11:53:18.709007Z",
     "shell.execute_reply": "2025-04-05T11:53:18.707908Z",
     "shell.execute_reply.started": "2025-04-05T11:53:18.701293Z"
    },
    "trusted": true
   },
   "outputs": [],
   "source": [
    "class RRDBBlock(nn.Module):\n",
    "    def __init__(self, channels, growth_channels = 32) -> None:\n",
    "        super(RRDBBlock, self).__init__()\n",
    "        self.conv1 = nn.Conv2d(channels, growth_channels, 3, 1, 1)\n",
    "        self.conv2 = nn.Conv2d(growth_channels, channels + growth_channels, 3, 1, 1)\n",
    "        self.conv3 = nn.Conv2d(channels + growth_channels, channels + 2 * growth_channels, 3, 1, 1)\n",
    "        self.conv4 = nn.Conv2d(channels + 2 * growth_channels, channels + 3 * growth_channels, 3, 1, 1)\n",
    "        self.conv5 = nn.Conv2d(channels + 3 * growth_channels, channels + 4 * growth_channels, 3, 1, 1)\n",
    "        self.lrelu = nn.LeakyReLU(negative_slope=0.2, inplace=True)\n",
    "    def forward(self, x) -> torch.Tensor:\n",
    "        x1 = self.lrelu(self.conv1(x))\n",
    "        x2 = self.lrelu(self.conv2(torch.cat([x, x1], 1)))\n",
    "        x3 = self.lrelu(self.conv3(torch.cat([x, x1, x2], 1)))\n",
    "        x4 = self.lrelu(self.conv4(torch.cat([x, x1, x2, x3], 1)))\n",
    "        x5 = self.lrelu(self.conv5(torch.cat([x, x1, x2, x3, x4], 1)))\n",
    "        return x + x5 * 0.2"
   ]
  },
  {
   "cell_type": "code",
   "execution_count": null,
   "metadata": {
    "execution": {
     "iopub.execute_input": "2025-04-05T11:58:08.832160Z",
     "iopub.status.busy": "2025-04-05T11:58:08.831770Z",
     "iopub.status.idle": "2025-04-05T11:58:08.837311Z",
     "shell.execute_reply": "2025-04-05T11:58:08.836454Z",
     "shell.execute_reply.started": "2025-04-05T11:58:08.832127Z"
    },
    "trusted": true
   },
   "outputs": [],
   "source": [
    "class RRDB(nn.Module):\n",
    "    def __init__(self, channels, growth_channels=32) -> None:\n",
    "        super(RRDB, self).__init__()\n",
    "        self.rdb1 = RRDBBlock(channels, growth_channels)\n",
    "        self.rdb2 = RRDBBlock(channels, growth_channels)\n",
    "        self.rdb3 = RRDBBlock(channels, growth_channels)\n",
    "\n",
    "    def forward(self, x) -> torch.Tensor:\n",
    "        out = self.rdb1(x)\n",
    "        out = self.rdb2(out)\n",
    "        out = self.rdb3(out)\n",
    "        # Residual scaling ile girişe ekleme\n",
    "        return x + out * 0.2"
   ]
  },
  {
   "cell_type": "code",
   "execution_count": null,
   "metadata": {
    "execution": {
     "iopub.execute_input": "2025-04-05T11:58:42.868249Z",
     "iopub.status.busy": "2025-04-05T11:58:42.867893Z",
     "iopub.status.idle": "2025-04-05T11:58:42.875735Z",
     "shell.execute_reply": "2025-04-05T11:58:42.874834Z",
     "shell.execute_reply.started": "2025-04-05T11:58:42.868221Z"
    },
    "trusted": true
   },
   "outputs": [],
   "source": [
    "class ESRGANGenerator(nn.Module):\n",
    "    def __init__(self, in_channels=3, out_channels=3, num_features=64, num_blocks=23, growth_channels=32) -> None:\n",
    "        super(ESRGANGenerator, self).__init__()\n",
    "        self.conv_first = nn.Conv2d(in_channels, num_features, kernel_size=3, stride=1, padding=1)\n",
    "        \n",
    "        rrdb_blocks = []\n",
    "        for _ in range(num_blocks):\n",
    "            rrdb_blocks.append(RRDB(num_features, growth_channels))\n",
    "        self.RRDB_trunk = nn.Sequential(*rrdb_blocks)\n",
    "        \n",
    "        self.trunk_conv = nn.Conv2d(num_features, num_features, kernel_size=3, stride=1, padding=1)\n",
    "        \n",
    "        self.upsample = nn.Sequential(\n",
    "            nn.Conv2d(num_features, num_features * 4, kernel_size=3, stride=1, padding=1),\n",
    "            nn.PixelShuffle(2),\n",
    "            nn.LeakyReLU(0.2, inplace=True),\n",
    "            nn.Conv2d(num_features, num_features * 4, kernel_size=3, stride=1, padding=1),\n",
    "            nn.PixelShuffle(2),\n",
    "            nn.LeakyReLU(0.2, inplace=True)\n",
    "        )\n",
    "        self.conv_last = nn.Conv2d(num_features, out_channels, kernel_size=3, stride=1, padding=1)\n",
    "\n",
    "    def forward(self, x):\n",
    "        fea = self.conv_first(x)\n",
    "        trunk = self.trunk_conv(self.RRDB_trunk(fea))\n",
    "        fea = fea + trunk  # Skip connection\n",
    "        out = self.upsample(fea)\n",
    "        out = self.conv_last(out)\n",
    "        return out"
   ]
  },
  {
   "cell_type": "code",
   "execution_count": null,
   "metadata": {
    "trusted": true
   },
   "outputs": [],
   "source": [
    "class ESRGANDiscriminator(nn.Module):\n",
    "    def __init__(self, in_channels=3, base_channels=64) -> None:\n",
    "        super(ESRGANDiscriminator, self).__init__()\n",
    "        layers = []\n",
    "        layers.append(nn.Conv2d(in_channels, base_channels, kernel_size=3, stride=1, padding=1))\n",
    "        layers.append(nn.LeakyReLU(0.2, inplace=True))\n",
    "        curr_channels = base_channels\n",
    "        # Birkaç katmanla özellik çıkarımı (stride kullanarak boyut azaltma)\n",
    "        for i in range(1, 4):\n",
    "            layers.append(nn.Conv2d(curr_channels, curr_channels * 2, kernel_size=3, stride=2, padding=1))\n",
    "            layers.append(nn.BatchNorm2d(curr_channels * 2))\n",
    "            layers.append(nn.LeakyReLU(0.2, inplace=True))\n",
    "            curr_channels *= 2\n",
    "        layers.append(nn.Conv2d(curr_channels, curr_channels, kernel_size=3, stride=1, padding=1))\n",
    "        layers.append(nn.BatchNorm2d(curr_channels))\n",
    "        layers.append(nn.LeakyReLU(0.2, inplace=True))\n",
    "        self.features = nn.Sequential(*layers)\n",
    "        # Son katman: global ortalama havuzlama sonrası FC\n",
    "        self.classifier = nn.Sequential(\n",
    "            nn.Linear(curr_channels * 16 * 16, 1024),  # Not: Bu değer, giriş görüntü boyutuna bağlıdır.\n",
    "            nn.LeakyReLU(0.2, inplace=True),\n",
    "            nn.Linear(1024, 1)\n",
    "        )\n",
    "\n",
    "    def forward(self, x) -> torch.Tensor:\n",
    "        out = self.features(x)\n",
    "        out = out.view(out.size(0), -1)\n",
    "        out = self.classifier(out)\n",
    "        return out\n"
   ]
  }
 ],
 "metadata": {
  "kaggle": {
   "accelerator": "none",
   "dataSources": [],
   "dockerImageVersionId": 30918,
   "isGpuEnabled": false,
   "isInternetEnabled": true,
   "language": "python",
   "sourceType": "notebook"
  },
  "kernelspec": {
   "display_name": "Python 3",
   "language": "python",
   "name": "python3"
  },
  "language_info": {
   "codemirror_mode": {
    "name": "ipython",
    "version": 3
   },
   "file_extension": ".py",
   "mimetype": "text/x-python",
   "name": "python",
   "nbconvert_exporter": "python",
   "pygments_lexer": "ipython3",
   "version": "3.10.12"
  }
 },
 "nbformat": 4,
 "nbformat_minor": 4
}
